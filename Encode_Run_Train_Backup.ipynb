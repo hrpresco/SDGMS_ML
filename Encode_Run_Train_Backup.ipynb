{
 "cells": [
  {
   "cell_type": "code",
   "execution_count": 4,
   "id": "50fc200b-afbc-42a6-b990-d4cb121732a4",
   "metadata": {},
   "outputs": [],
   "source": [
    "import numpy as np\n",
    "import sympy as sympy\n",
    "from sympy import init_session\n",
    "from sympy import oo\n",
    "from sympy.plotting import plot"
   ]
  },
  {
   "cell_type": "code",
   "execution_count": 31,
   "id": "bccb2ce4-7348-4b9d-ae41-7426c82aa2f1",
   "metadata": {},
   "outputs": [
    {
     "name": "stdout",
     "output_type": "stream",
     "text": [
      "IPython console for SymPy 1.12 (Python 3.10.14-64-bit) (ground types: gmpy)\n",
      "\n",
      "These commands were executed:\n",
      ">>> from sympy import *\n",
      ">>> x, y, z, t = symbols('x y z t')\n",
      ">>> k, m, n = symbols('k m n', integer=True)\n",
      ">>> f, g, h = symbols('f g h', cls=Function)\n",
      ">>> init_printing()\n",
      "\n",
      "Documentation can be found at https://docs.sympy.org/1.12/\n",
      "\n"
     ]
    }
   ],
   "source": [
    "init_session()\n",
    "B = sympy.symbols(\"B\", real = True)\n",
    "hbar = sympy.symbols(\"hbar\", real = True)\n",
    "r = sympy.symbols('r', real = True)\n",
    "m = sympy.symbols('m', real = True)\n",
    "E = sympy.symbols(\"E\", real = True)\n",
    "Vo = sympy.symbols(\"Vo\", real = True)\n",
    "pi = sympy.symbols(\"pi\", real = True)\n",
    "R_1_0 = B * (1/(4 * pi))**(1/2) * sympy.sin((sympy.sqrt(((2 * m * (E + Vo))/hbar**2)) * r)) / r\n",
    "position_derivative = r**2 * sympy.diff(R_1_0, r)\n",
    "#radial_hamiltonian = -(hbar**2/ (2 * m)) * [(1/r**2)\n",
    "#* sympy.diff(position_derivative, r)]]                                           \n",
    "radial_hamiltonian = -(hbar**2/ (2 * m)) * ((1/r**2) * sympy.diff(position_derivative, r))\n",
    "E1 = radial_hamiltonian / (R_1_0 * (1/(4 * pi))**(1/2))\n",
    "#E1"
   ]
  },
  {
   "cell_type": "code",
   "execution_count": 4,
   "id": "a1699698-4cf6-4d30-92b9-e55fcbc36400",
   "metadata": {},
   "outputs": [
    {
     "data": {
      "image/png": "[encoded data removed]",
      "text/latex": [
       "$\\displaystyle \\frac{0.5 \\sqrt{2} B \\sqrt{\\frac{m \\left(E + Vo\\right)}{\\hbar^{2}}} \\left(\\frac{1}{\\pi}\\right)^{0.5} \\cos{\\left(\\sqrt{2} r \\sqrt{\\frac{m \\left(E + Vo\\right)}{\\hbar^{2}}} \\right)}}{r} - \\frac{0.5 B \\left(\\frac{1}{\\pi}\\right)^{0.5} \\sin{\\left(\\sqrt{2} r \\sqrt{\\frac{m \\left(E + Vo\\right)}{\\hbar^{2}}} \\right)}}{r^{2}}$"
      ],
      "text/plain": [
       "              ____________    0.5    ⎛          ____________⎞            0.5    ⎛          ____________⎞\n",
       "             ╱ m⋅(E + Vo)  ⎛1⎞       ⎜         ╱ m⋅(E + Vo) ⎟         ⎛1⎞       ⎜         ╱ m⋅(E + Vo) ⎟\n",
       "0.5⋅√2⋅B⋅   ╱  ────────── ⋅⎜─⎟   ⋅cos⎜√2⋅r⋅   ╱  ────────── ⎟   0.5⋅B⋅⎜─⎟   ⋅sin⎜√2⋅r⋅   ╱  ────────── ⎟\n",
       "           ╱        2      ⎝π⎠       ⎜       ╱        2     ⎟         ⎝π⎠       ⎜       ╱        2     ⎟\n",
       "         ╲╱       h̅                 ⎝     ╲╱       h̅      ⎠                   ⎝     ╲╱       h̅      ⎠\n",
       "───────────────────────────────────────────────────────────── - ────────────────────────────────────────\n",
       "                              r                                                     2                   \n",
       "                                                                                   r                    "
      ]
     },
     "execution_count": 4,
     "metadata": {},
     "output_type": "execute_result"
    }
   ],
   "source": [
    "sympy.diff(R_1_0, r)"
   ]
  },
  {
   "cell_type": "code",
   "execution_count": 9,
   "id": "dc011257-09ca-47bf-8b50-e93f8f641c6d",
   "metadata": {},
   "outputs": [
    {
     "data": {
      "image/png": "[encoded data removed]",
      "text/latex": [
       "$\\displaystyle - \\frac{0.5 C \\left(\\frac{1}{\\pi}\\right)^{0.5} e^{- \\frac{\\sqrt{2} \\sqrt{- E m}}{\\hbar^{2}}}}{r^{2}}$"
      ],
      "text/plain": [
       "                     ______  \n",
       "               -√2⋅╲╱ -E⋅m   \n",
       "               ───────────── \n",
       "          0.5         2      \n",
       "       ⎛1⎞          h̅       \n",
       "-0.5⋅C⋅⎜─⎟   ⋅ℯ              \n",
       "       ⎝π⎠                   \n",
       "─────────────────────────────\n",
       "               2             \n",
       "              r              "
      ]
     },
     "execution_count": 9,
     "metadata": {},
     "output_type": "execute_result"
    }
   ],
   "source": [
    "C = sympy.symbols(\"C\", real = True)\n",
    "external_radial_fxn = C * (1/(4 * pi))**(1/2) * (sympy.exp(-sympy.sqrt(-2 * m * E)/hbar**2))/r\n",
    "sympy.diff(external_radial_fxn, r)"
   ]
  },
  {
   "cell_type": "code",
   "execution_count": 11,
   "id": "846c856d-8135-4f2b-a2d0-fdd2bea1cbfe",
   "metadata": {},
   "outputs": [
    {
     "name": "stdout",
     "output_type": "stream",
     "text": [
      "IPython console for SymPy 1.12 (Python 3.10.14-64-bit) (ground types: gmpy)\n",
      "\n",
      "These commands were executed:\n",
      ">>> from sympy import *\n",
      ">>> x, y, z, t = symbols('x y z t')\n",
      ">>> k, m, n = symbols('k m n', integer=True)\n",
      ">>> f, g, h = symbols('f g h', cls=Function)\n",
      ">>> init_printing()\n",
      "\n",
      "Documentation can be found at https://docs.sympy.org/1.12/\n",
      "\n"
     ]
    },
    {
     "data": {
      "image/png": "[encoded data removed]",
      "text/latex": [
       "$\\displaystyle \\frac{0.5 B k \\left(\\frac{1}{\\pi}\\right)^{0.5} \\cos{\\left(k r \\right)}}{r} - \\frac{0.5 B \\left(\\frac{1}{\\pi}\\right)^{0.5} \\sin{\\left(k r \\right)}}{r^{2}}$"
      ],
      "text/plain": [
       "           0.5                     0.5         \n",
       "        ⎛1⎞                     ⎛1⎞            \n",
       "0.5⋅B⋅k⋅⎜─⎟   ⋅cos(k⋅r)   0.5⋅B⋅⎜─⎟   ⋅sin(k⋅r)\n",
       "        ⎝π⎠                     ⎝π⎠            \n",
       "─────────────────────── - ─────────────────────\n",
       "           r                         2         \n",
       "                                    r          "
      ]
     },
     "execution_count": 11,
     "metadata": {},
     "output_type": "execute_result"
    }
   ],
   "source": [
    "init_session()\n",
    "B = sympy.symbols(\"B\", real = True)\n",
    "hbar = sympy.symbols(\"hbar\", real = True)\n",
    "r = sympy.symbols('r', real = True)\n",
    "m = sympy.symbols('m', real = True)\n",
    "E = sympy.symbols(\"E\", real = True)\n",
    "Vo = sympy.symbols(\"Vo\", real = True)\n",
    "pi = sympy.symbols(\"pi\", real = True)\n",
    "k = sympy.symbols(\"k\", real = True)\n",
    "R_1_0 = B * (1/(4 * pi))**(1/2) * sympy.sin(k * r) / r\n",
    "position_derivative = r**2 * sympy.diff(R_1_0, r)\n",
    "#radial_hamiltonian = -(hbar**2/ (2 * m)) * [(1/r**2)\n",
    "#* sympy.diff(position_derivative, r)]]                                           \n",
    "radial_hamiltonian = -(hbar**2/ (2 * m)) * ((1/r**2) * sympy.diff(position_derivative, r))\n",
    "sympy.diff(R_1_0, r)"
   ]
  },
  {
   "cell_type": "code",
   "execution_count": 8,
   "id": "b73d4066-d8ed-4b71-bac0-74c64f98439e",
   "metadata": {},
   "outputs": [
    {
     "data": {
      "text/latex": [
       "$\\displaystyle - \\frac{0.5 C k_{a} \\left(\\frac{1}{\\pi}\\right)^{0.5} e^{- k_{a} r}}{r} - \\frac{0.5 C \\left(\\frac{1}{\\pi}\\right)^{0.5} e^{- k_{a} r}}{r^{2}}$"
      ],
      "text/plain": [
       "-0.5*C*k_a*(1/pi)**0.5*exp(-k_a*r)/r - 0.5*C*(1/pi)**0.5*exp(-k_a*r)/r**2"
      ]
     },
     "execution_count": 8,
     "metadata": {},
     "output_type": "execute_result"
    }
   ],
   "source": [
    "C = sympy.symbols(\"C\", real = True)\n",
    "pi = sympy.symbols(\"pi\", real = True)\n",
    "k_a = sympy.symbols(\"k_a\", real = True)\n",
    "r = sympy.symbols(\"r\", real = True)\n",
    "external_radial_fxn = C * (1/(4 * pi))**(1/2) * (sympy.exp(-k_a*r))/r\n",
    "sympy.diff(external_radial_fxn, r)"
   ]
  },
  {
   "cell_type": "code",
   "execution_count": 40,
   "id": "e7056f46-9bbb-46ec-8356-a25420e92680",
   "metadata": {},
   "outputs": [
    {
     "data": {
      "image/png": "[encoded data removed]",
      "text/plain": [
       "<Figure size 640x480 with 1 Axes>"
      ]
     },
     "metadata": {},
     "output_type": "display_data"
    },
    {
     "data": {
      "text/plain": [
       "<sympy.plotting.plot.Plot at 0x123eec370>"
      ]
     },
     "execution_count": 40,
     "metadata": {},
     "output_type": "execute_result"
    }
   ],
   "source": [
    "Z = sympy.symbols(\"Z\", real = True)\n",
    "Zo = sympy.symbols(\"Zo\", real = True)\n",
    "F1 = sympy.tan(Z)\n",
    "F2 = -sympy.sqrt(20 - Z**2)\n",
    "plot(F1, F2, (Z, -2*np.pi, 2*np.pi), (Z, -2*np.pi, 2*np.pi), ylim = (-10, 10))\n"
   ]
  },
  {
   "cell_type": "code",
   "execution_count": 30,
   "id": "48fde1b9-c3c3-4a8b-9df2-f5611168b965",
   "metadata": {},
   "outputs": [
    {
     "data": {
      "text/plain": [
       "40459613214.05317"
      ]
     },
     "execution_count": 30,
     "metadata": {},
     "output_type": "execute_result"
    }
   ],
   "source": [
    "np.sqrt((2 * (9.11e-31) * (10e-18))/(1.055e-34)**2)"
   ]
  },
  {
   "cell_type": "code",
   "execution_count": 46,
   "id": "84b3a68e-14fd-492d-ac39-c99aac5fa24d",
   "metadata": {},
   "outputs": [
    {
     "name": "stdout",
     "output_type": "stream",
     "text": [
      "[[-3.5 -1. ]\n",
      " [-4.  -1. ]]\n",
      "[ 6 -4]\n",
      "[-17. -20.]\n"
     ]
    }
   ],
   "source": [
    "A = np.array([[2, -2], [-8, 7]])\n",
    "x = np.array([6, -4])\n",
    "print(np.linalg.inv(A))\n",
    "print(x)\n",
    "print(x @ np.linalg.inv(A).transpose())"
   ]
  },
  {
   "cell_type": "code",
   "execution_count": 50,
   "id": "d48766a5-b202-4c7a-bb45-4a082741ba8d",
   "metadata": {},
   "outputs": [
    {
     "name": "stdout",
     "output_type": "stream",
     "text": [
      "-51.999999999999986\n"
     ]
    }
   ],
   "source": [
    "A = np.array([[0,4,-3],[-4,0,1],[-2,3,-5]])\n",
    "print(np.linalg.det(A))"
   ]
  },
  {
   "cell_type": "code",
   "execution_count": 3,
   "id": "335dd586-444f-45f2-99ea-8171a1172940",
   "metadata": {},
   "outputs": [],
   "source": [
    "#init_session()\n",
    "C = sympy.symbols(\"C\", real = True)\n",
    "x0 = sympy.symbols(\"x0\",real = True)\n",
    "k0 = sympy.symbols(\"k0\", real = True)\n",
    "k = sympy.symbols(\"k\", real = True)\n",
    "a = C * sympy.exp(-x0**2 * (k - k0)**2 - sympy.I * k * x0)\n",
    "#psi_x_o = sympy.inverse_fourier_transform(a, k, x0)"
   ]
  },
  {
   "cell_type": "code",
   "execution_count": 3,
   "id": "b331cb91-c13c-4aca-a433-b63102c28d45",
   "metadata": {},
   "outputs": [
    {
     "name": "stdout",
     "output_type": "stream",
     "text": [
      "Help on function inverse_fourier_transform in module sympy.integrals.transforms:\n",
      "\n",
      "inverse_fourier_transform(F, k, x, **hints)\n",
      "    Compute the unitary, ordinary-frequency inverse Fourier transform of `F`,\n",
      "    defined as\n",
      "    \n",
      "    .. math:: f(x) = \\int_{-\\infty}^\\infty F(k) e^{2\\pi i x k} \\mathrm{d} k.\n",
      "    \n",
      "    Explanation\n",
      "    ===========\n",
      "    \n",
      "    If the transform cannot be computed in closed form, this\n",
      "    function returns an unevaluated :class:`InverseFourierTransform` object.\n",
      "    \n",
      "    For other Fourier transform conventions, see the function\n",
      "    :func:`sympy.integrals.transforms._fourier_transform`.\n",
      "    \n",
      "    For a description of possible hints, refer to the docstring of\n",
      "    :func:`sympy.integrals.transforms.IntegralTransform.doit`.\n",
      "    Note that for this transform, by default ``noconds=True``.\n",
      "    \n",
      "    Examples\n",
      "    ========\n",
      "    \n",
      "    >>> from sympy import inverse_fourier_transform, exp, sqrt, pi\n",
      "    >>> from sympy.abc import x, k\n",
      "    >>> inverse_fourier_transform(sqrt(pi)*exp(-(pi*k)**2), k, x)\n",
      "    exp(-x**2)\n",
      "    >>> inverse_fourier_transform(sqrt(pi)*exp(-(pi*k)**2), k, x, noconds=False)\n",
      "    (exp(-x**2), True)\n",
      "    \n",
      "    See Also\n",
      "    ========\n",
      "    \n",
      "    fourier_transform\n",
      "    sine_transform, inverse_sine_transform\n",
      "    cosine_transform, inverse_cosine_transform\n",
      "    hankel_transform, inverse_hankel_transform\n",
      "    mellin_transform, laplace_transform\n",
      "\n"
     ]
    }
   ],
   "source": [
    "help(sympy.inverse_fourier_transform)"
   ]
  },
  {
   "cell_type": "code",
   "execution_count": 4,
   "id": "93bcbf0a-2c04-4dc9-9cf7-a34adeb7cc89",
   "metadata": {},
   "outputs": [
    {
     "name": "stdout",
     "output_type": "stream",
     "text": [
      "IPython console for SymPy 1.12 (Python 3.10.14-64-bit) (ground types: gmpy)\n",
      "\n",
      "These commands were executed:\n",
      ">>> from sympy import *\n",
      ">>> x, y, z, t = symbols('x y z t')\n",
      ">>> k, m, n = symbols('k m n', integer=True)\n",
      ">>> f, g, h = symbols('f g h', cls=Function)\n",
      ">>> init_printing()\n",
      "\n",
      "Documentation can be found at https://docs.sympy.org/1.12/\n",
      "\n"
     ]
    },
    {
     "data": {
      "text/latex": [
       "$\\displaystyle C \\left(\\begin{cases} 0 & \\text{for}\\: \\left|{\\arg{\\left(x \\right)} - \\frac{\\pi}{2}}\\right| < \\frac{\\pi}{2} \\wedge \\left|{\\arg{\\left(x \\right)} + \\frac{\\pi}{2}}\\right| < \\frac{\\pi}{2} \\\\\\int\\limits_{-\\infty}^{\\infty} e^{i k x} e^{- i k x_{0} - x_{0}^{2} \\left(k - k_{0}\\right)^{2}}\\, dk & \\text{otherwise} \\end{cases}\\right)$"
      ],
      "text/plain": [
       "  ⎛⎧                                           │         π│   π   │         π│   π⎞\n",
       "  ⎜⎪                  0                    for │arg(x) - ─│ < ─ ∧ │arg(x) + ─│ < ─⎟\n",
       "  ⎜⎪                                           │         2│   2   │         2│   2⎟\n",
       "  ⎜⎪                                                                              ⎟\n",
       "  ⎜⎪∞                                                                             ⎟\n",
       "C⋅⎜⎨⌠                                                                             ⎟\n",
       "  ⎜⎪⎮                      2         2                                            ⎟\n",
       "  ⎜⎪⎮   ⅈ⋅k⋅x  -ⅈ⋅k⋅x₀ - x₀ ⋅(k - k₀)                                             ⎟\n",
       "  ⎜⎪⎮  ℯ     ⋅ℯ                        dk                 otherwise               ⎟\n",
       "  ⎜⎪⌡                                                                             ⎟\n",
       "  ⎝⎩-∞                                                                            ⎠"
      ]
     },
     "execution_count": 4,
     "metadata": {},
     "output_type": "execute_result"
    }
   ],
   "source": [
    "init_session()\n",
    "x = sympy.symbols('x', real = True)\n",
    "amplitude = a / C\n",
    "psi_x_o = C * sympy.integrals.integrate(amplitude * sympy.exp(sympy.I * k * x), (k, -oo, oo))\n",
    "psi_x_o"
   ]
  },
  {
   "cell_type": "code",
   "execution_count": 2,
   "id": "d5328b6b-2092-406e-b8d9-6249826113ce",
   "metadata": {},
   "outputs": [
    {
     "name": "stdout",
     "output_type": "stream",
     "text": [
      "IPython console for SymPy 1.12 (Python 3.10.14-64-bit) (ground types: gmpy)\n",
      "\n",
      "These commands were executed:\n",
      ">>> from sympy import *\n",
      ">>> x, y, z, t = symbols('x y z t')\n",
      ">>> k, m, n = symbols('k m n', integer=True)\n",
      ">>> f, g, h = symbols('f g h', cls=Function)\n",
      ">>> init_printing()\n",
      "\n",
      "Documentation can be found at https://docs.sympy.org/1.12/\n",
      "\n"
     ]
    },
    {
     "data": {
      "image/png": "[encoded data removed]",
      "text/latex": [
       "$\\displaystyle \\sqrt{\\pi}$"
      ],
      "text/plain": [
       "√π"
      ]
     },
     "execution_count": 2,
     "metadata": {},
     "output_type": "execute_result"
    }
   ],
   "source": [
    "init_session()\n",
    "a = sympy.symbols('a', real = True)\n",
    "x = sympy.symbols('x', real = True)\n",
    "test_fxn = sympy.exp (-x**2)\n",
    "sympy.integrals.integrate(test_fxn, (x, -oo, oo))"
   ]
  },
  {
   "cell_type": "code",
   "execution_count": null,
   "id": "0bf1ce9f-b7ad-4120-ae7b-54655a628c37",
   "metadata": {},
   "outputs": [
    {
     "name": "stdout",
     "output_type": "stream",
     "text": [
      "IPython console for SymPy 1.12 (Python 3.10.14-64-bit) (ground types: gmpy)\n",
      "\n",
      "These commands were executed:\n",
      ">>> from sympy import *\n",
      ">>> x, y, z, t = symbols('x y z t')\n",
      ">>> k, m, n = symbols('k m n', integer=True)\n",
      ">>> f, g, h = symbols('f g h', cls=Function)\n",
      ">>> init_printing()\n",
      "\n",
      "Documentation can be found at https://docs.sympy.org/1.12/\n",
      "\n"
     ]
    }
   ],
   "source": [
    "init_session()\n",
    "a11 = sympy.symbols(\"a11\", real = True)\n",
    "a12 = sympy.symbols(\"a12\", real = True)\n",
    "a13 = sympy.symbols(\"a13\", real = True)\n",
    "a21 = sympy.symbols(\"a21\", real = True)\n",
    "a22 = sympy.symbols(\"a22\", real = True)\n",
    "a23 = sympy.symbols(\"a23\", real = True)\n",
    "a31 = sympy.symbols(\"a31\", real = True)\n",
    "a32 = sympy.symbols(\"a32\", real = True)\n",
    "a33 = sympy.symbols(\"a33\", real = True)\n",
    "A = sympy.Matrix([[a11,a21,a31], [a12,a22,a32], [a13,a23,a33]])\n",
    "Q, R = A.QRdecomposition()\n"
   ]
  },
  {
   "cell_type": "code",
   "execution_count": 2,
   "id": "73341143-ec07-4823-a38a-2509468a4193",
   "metadata": {},
   "outputs": [
    {
     "name": "stdout",
     "output_type": "stream",
     "text": [
      "IPython console for SymPy 1.12 (Python 3.10.14-64-bit) (ground types: gmpy)\n",
      "\n",
      "These commands were executed:\n",
      ">>> from sympy import *\n",
      ">>> x, y, z, t = symbols('x y z t')\n",
      ">>> k, m, n = symbols('k m n', integer=True)\n",
      ">>> f, g, h = symbols('f g h', cls=Function)\n",
      ">>> init_printing()\n",
      "\n",
      "Documentation can be found at https://docs.sympy.org/1.12/\n",
      "\n"
     ]
    },
    {
     "data": {
      "image/png": "[encoded data removed]",
      "text/latex": [
       "$\\displaystyle 12.8415085714286$"
      ],
      "text/plain": [
       "12.8415085714286"
      ]
     },
     "execution_count": 2,
     "metadata": {},
     "output_type": "execute_result"
    }
   ],
   "source": [
    "x = sympy.symbols('x', real = True)\n",
    "hbar = sympy.symbols('hbar', real = True)\n",
    "position_expectation = 0.00386*x**5 - 0.036*x**4 +0.139*x**3\n",
    "position_expectation_square = 0.00386*x**6 - 0.046*x**5 + 0.139*x**4\n",
    "momentum_expectation = -0.0077*sympy.I*hbar*x**3 + 0.046*sympy.I*hbar*x**2 + 0.023*sympy.I*hbar*x**2 - 0.1388*sympy.I*hbar*x\n",
    "momentum_square = -0.1242*hbar**2*(0.7326*x - 0.0621*x**2)\n",
    "p_expectation_square = sympy.integrals.integrate(momentum_square, (x,0, 6))\n",
    "x_expectation = sympy.integrals.integrate(position_expectation, (x,0,6))\n",
    "x_expectation_square = sympy.integrals.integrate(position_expectation_square, (x,0,6))\n",
    "p_expectation = sympy.integrals.integrate(momentum_expectation, (x,0,6))\n",
    "init_session()\n",
    "x_expectation_square"
   ]
  },
  {
   "cell_type": "code",
   "execution_count": 4,
   "id": "a843e275-aed0-40c0-8368-a0579ae79b00",
   "metadata": {},
   "outputs": [
    {
     "name": "stdout",
     "output_type": "stream",
     "text": [
      "IPython console for SymPy 1.12 (Python 3.10.14-64-bit) (ground types: gmpy)\n",
      "\n",
      "These commands were executed:\n",
      ">>> from sympy import *\n",
      ">>> x, y, z, t = symbols('x y z t')\n",
      ">>> k, m, n = symbols('k m n', integer=True)\n",
      ">>> f, g, h = symbols('f g h', cls=Function)\n",
      ">>> init_printing()\n",
      "\n",
      "Documentation can be found at https://docs.sympy.org/1.12/\n",
      "\n"
     ]
    },
    {
     "data": {
      "image/png": "[encoded data removed]",
      "text/latex": [
       "$\\displaystyle c x^{2} e^{- \\frac{c m x^{2}}{2 \\hbar}}$"
      ],
      "text/plain": [
       "            2 \n",
       "      -c⋅m⋅x  \n",
       "      ────────\n",
       "   2    2⋅h̅  \n",
       "c⋅x ⋅ℯ        "
      ]
     },
     "execution_count": 4,
     "metadata": {},
     "output_type": "execute_result"
    }
   ],
   "source": [
    "hbar = sympy.symbols('hbar', real = True)\n",
    "x = sympy.symbols('x', real = True)\n",
    "m = sympy.symbols('m', real = True)\n",
    "w = sympy.symbols('m', real = True)\n",
    "c = sympy.symbols('c', real = True)\n",
    "omega = sympy.symbols('c', real = True)\n",
    "raised_wavefunction = (hbar/(2*hbar*m*w)) * ((-c*m*w*x**3)/(2*hbar) * sympy.exp((-m*w*x**2)/(2*hbar)) + 2*c*x*sympy.exp((-m*w*x**2)/(2*hbar))) + (hbar*m*w*x)/(sympy.sqrt(2*hbar*m*w)) * (c*x**2*sympy.exp((-m*w*x**2)/(2*hbar)))\n",
    "d1 = sympy.diff(raised_wavefunction, x)\n",
    "v = (1/2) * m * w**2 * x**2\n",
    "Hamiltonian = -((hbar**2)/(2*m)) * sympy.diff(d1, x) + v*raised_wavefunction\n"
   ]
  },
  {
   "cell_type": "code",
   "execution_count": 4,
   "id": "0149b967-8ad5-46ff-bd0c-85adb3a0e2f7",
   "metadata": {},
   "outputs": [
    {
     "name": "stdout",
     "output_type": "stream",
     "text": [
      "IPython console for SymPy 1.12 (Python 3.10.14-64-bit) (ground types: gmpy)\n",
      "\n",
      "These commands were executed:\n",
      ">>> from sympy import *\n",
      ">>> x, y, z, t = symbols('x y z t')\n",
      ">>> k, m, n = symbols('k m n', integer=True)\n",
      ">>> f, g, h = symbols('f g h', cls=Function)\n",
      ">>> init_printing()\n",
      "\n",
      "Documentation can be found at https://docs.sympy.org/1.12/\n",
      "\n"
     ]
    },
    {
     "data": {
      "image/png": "[encoded data removed]",
      "text/latex": [
       "$\\displaystyle 0.5 c m w^{2} x^{4} e^{- \\frac{m w x^{2}}{2 \\hbar}} - \\frac{\\hbar^{2} \\cdot \\left(2 c e^{- \\frac{m w x^{2}}{2 \\hbar}} - \\frac{5 c m w x^{2} e^{- \\frac{m w x^{2}}{2 \\hbar}}}{\\hbar} + \\frac{c m^{2} w^{2} x^{4} e^{- \\frac{m w x^{2}}{2 \\hbar}}}{\\hbar^{2}}\\right)}{2 m}$"
      ],
      "text/plain": [
       "                             ⎛                                  2                      2 ⎞\n",
       "                             ⎜           2                -m⋅w⋅x                 -m⋅w⋅x  ⎟\n",
       "                             ⎜     -m⋅w⋅x                 ────────               ────────⎟\n",
       "                             ⎜     ────────            2    2⋅h̅        2  2  4    2⋅h̅  ⎟\n",
       "                     2     2 ⎜       2⋅h̅     5⋅c⋅m⋅w⋅x ⋅ℯ           c⋅m ⋅w ⋅x ⋅ℯ        ⎟\n",
       "               -m⋅w⋅x     h̅ ⋅⎜2⋅c⋅ℯ         - ──────────────────── + ────────────────────⎟\n",
       "               ────────      ⎜                         h̅                      2         ⎟\n",
       "         2  4    2⋅h̅        ⎝                                               h̅          ⎠\n",
       "0.5⋅c⋅m⋅w ⋅x ⋅ℯ         - ────────────────────────────────────────────────────────────────\n",
       "                                                        2⋅m                               "
      ]
     },
     "execution_count": 4,
     "metadata": {},
     "output_type": "execute_result"
    }
   ],
   "source": [
    "hbar = sympy.symbols('hbar', real = True)\n",
    "x = sympy.symbols('x', real = True)\n",
    "m = sympy.symbols('m', real = True)\n",
    "w = sympy.symbols('w', real = True)\n",
    "c = sympy.symbols('c', real = True)\n",
    "v = (1/2) * m * w**2 * x**2\n",
    "base_wavefunction = c * x**2 * sympy.exp((-m*w*(x**2))/(2*hbar))\n",
    "d1_base = sympy.diff(base_wavefunction, x)\n",
    "base_hamiltonian = -((hbar**2)/(2*m)) * sympy.diff(d1_base, x) + v*base_wavefunction\n",
    "init_session()\n",
    "base_hamiltonian"
   ]
  },
  {
   "cell_type": "code",
   "execution_count": 5,
   "id": "467d5350-c2e1-44cf-a70d-4ea311475878",
   "metadata": {},
   "outputs": [
    {
     "name": "stdout",
     "output_type": "stream",
     "text": [
      "IPython console for SymPy 1.12 (Python 3.10.14-64-bit) (ground types: gmpy)\n",
      "\n",
      "These commands were executed:\n",
      ">>> from sympy import *\n",
      ">>> x, y, z, t = symbols('x y z t')\n",
      ">>> k, m, n = symbols('k m n', integer=True)\n",
      ">>> f, g, h = symbols('f g h', cls=Function)\n",
      ">>> init_printing()\n",
      "\n",
      "Documentation can be found at https://docs.sympy.org/1.12/\n",
      "\n"
     ]
    },
    {
     "data": {
      "image/png": "[encoded data removed]",
      "text/latex": [
       "$\\displaystyle 1.0 c m w^{2} x^{3} e^{- \\frac{m w x^{2}}{2 \\hbar}} - \\frac{\\hbar^{2} \\left(- \\frac{6 c m w x e^{- \\frac{m w x^{2}}{2 \\hbar}}}{\\hbar} + \\frac{2 c m^{2} w^{2} x^{3} e^{- \\frac{m w x^{2}}{2 \\hbar}}}{\\hbar^{2}}\\right)}{2 m}$"
      ],
      "text/plain": [
       "                             ⎛                   2                        2 ⎞\n",
       "                             ⎜             -m⋅w⋅x                   -m⋅w⋅x  ⎟\n",
       "                             ⎜             ────────                 ────────⎟\n",
       "                             ⎜               2⋅h̅          2  2  3    2⋅h̅  ⎟\n",
       "                     2     2 ⎜  6⋅c⋅m⋅w⋅x⋅ℯ           2⋅c⋅m ⋅w ⋅x ⋅ℯ        ⎟\n",
       "               -m⋅w⋅x     h̅ ⋅⎜- ─────────────────── + ──────────────────────⎟\n",
       "               ────────      ⎜           h̅                      2          ⎟\n",
       "         2  3    2⋅h̅        ⎝                                 h̅           ⎠\n",
       "1.0⋅c⋅m⋅w ⋅x ⋅ℯ         - ───────────────────────────────────────────────────\n",
       "                                                  2⋅m                        "
      ]
     },
     "execution_count": 5,
     "metadata": {},
     "output_type": "execute_result"
    }
   ],
   "source": [
    "hbar = sympy.symbols('hbar', real = True)\n",
    "x = sympy.symbols('x', real = True)\n",
    "m = sympy.symbols('m', real = True)\n",
    "w = sympy.symbols('w', real = True)\n",
    "c = sympy.symbols('c', real = True)\n",
    "v = (1/2) * m * w**2 * x**2\n",
    "base_wavefunction = c*(2*x) * sympy.exp((-m*w*(x**2))/(2*hbar))\n",
    "d1_base = sympy.diff(base_wavefunction, x)\n",
    "base_hamiltonian = -((hbar**2)/(2*m)) * sympy.diff(d1_base, x) + v*base_wavefunction\n",
    "init_session()\n",
    "base_hamiltonian"
   ]
  },
  {
   "cell_type": "code",
   "execution_count": null,
   "id": "e99edb3f-b4e2-4e02-ae7b-31d49be726dc",
   "metadata": {},
   "outputs": [],
   "source": []
  }
 ],
 "metadata": {
  "kernelspec": {
   "display_name": "Python 3 (ipykernel)",
   "language": "python",
   "name": "python3"
  },
  "language_info": {
   "codemirror_mode": {
    "name": "ipython",
    "version": 3
   },
   "file_extension": ".py",
   "mimetype": "text/x-python",
   "name": "python",
   "nbconvert_exporter": "python",
   "pygments_lexer": "ipython3",
   "version": "3.10.14"
  }
 },
 "nbformat": 4,
 "nbformat_minor": 5
}
