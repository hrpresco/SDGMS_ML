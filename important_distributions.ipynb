{
 "cells": [
  {
   "cell_type": "code",
   "execution_count": 2,
   "id": "710b57c5-45e8-4606-ade7-515312f84de7",
   "metadata": {},
   "outputs": [],
   "source": [
    "import sympy as sympy\n",
    "import numpy as np\n",
    "import math as math"
   ]
  },
  {
   "cell_type": "code",
   "execution_count": null,
   "id": "62737c64-0d53-43b0-a56b-190b9a5ed74d",
   "metadata": {},
   "outputs": [],
   "source": [
    "\n",
    "\n",
    "for k in np.arange(1,21):\n",
    "    ith_y_prob = math.comb(20, k) * (1/6)**k * (5/6)**(20-k)\n",
    "    Py += ith_y_prob\n",
    "\n",
    "k = 0\n",
    "for k in np.arange(1,7):\n",
    "    ith_x_prob = math.comb(6, k) * (0.05**k) * (0.95**(6-k))\n",
    "    Px += ith_x_prob\n",
    "\n",
    "for a in np.arange(1,6):\n",
    "    exp_val = a * (2/5)**(a-1)*(3/5)\n",
    "    exp += exp_val\n",
    "\n",
    "k = 0\n",
    "for k in np.arange(0,13):\n",
    "    croissant_val = np.exp(-10) * ((10**k)/math.factorial(k))\n",
    "    croissant += croissant_val\n",
    "\n",
    "0.79-0.22"
   ]
  },
  {
   "cell_type": "code",
   "execution_count": 18,
   "id": "63118bb3-22e8-4d3b-a19a-ed4a529431d2",
   "metadata": {},
   "outputs": [
    {
     "name": "stdout",
     "output_type": "stream",
     "text": [
      "1.7990001108023414e-63\n"
     ]
    }
   ],
   "source": [
    "def binomial(n, p, a):\n",
    "    p_total = 0\n",
    "    for k in np.arange(a, n):\n",
    "        current_p_val = math.comb(n, k) * (p)**k * (1 - p)**(n-k)\n",
    "        p_total += current_p_val\n",
    "    return p_total\n",
    "a = 48\n",
    "n = 400\n",
    "p = 2.5e-3\n",
    "\n",
    "approx = binomial(n, p, a)\n",
    "print(approx)\n",
    "\n",
    "def poisson(n, p, a):\n",
    "    l = n * p\n",
    "    p_total = 0\n",
    "    for k in np.arange(0,n):\n",
    "        current_p_val = np.exp(-l) * ((l**k)/math.factorial(k))\n",
    "        p_total += current_p_val\n",
    "    return p_total\n",
    "    "
   ]
  },
  {
   "cell_type": "code",
   "execution_count": 8,
   "id": "9a7429d8-d827-4f03-950f-ee7942543a91",
   "metadata": {},
   "outputs": [
    {
     "name": "stdout",
     "output_type": "stream",
     "text": [
      "25104128675558732292929443748812027705165520269876079766872595193901106138220937419666018009000254169376172314360982328660708071123369979853445367910653872383599704355532740937678091491429440864316046925074510134847025546014098005907965541041195496105311886173373435145517193282760847755882291690213539123479186274701519396808504940722607033001246328398800550487427999876690416973437861078185344667966871511049653888130136836199010529180056125844549488648617682915826347564148990984138067809999604687488146734837340699359838791124995957584538873616661533093253551256845056046388738129702951381151861413688922986510005440943943014699244112555755279140760492764253740250410391056421979003289600000000000000000000000000000000000000000000000000000000000000000000000000000000000000000\n"
     ]
    }
   ],
   "source": [
    "print(math.factorial(365))"
   ]
  },
  {
   "cell_type": "code",
   "execution_count": null,
   "id": "ee5a97a3-f7d7-4352-a648-4908db0ccfe6",
   "metadata": {},
   "outputs": [],
   "source": []
  }
 ],
 "metadata": {
  "kernelspec": {
   "display_name": "Python 3 (ipykernel)",
   "language": "python",
   "name": "python3"
  },
  "language_info": {
   "codemirror_mode": {
    "name": "ipython",
    "version": 3
   },
   "file_extension": ".py",
   "mimetype": "text/x-python",
   "name": "python",
   "nbconvert_exporter": "python",
   "pygments_lexer": "ipython3",
   "version": "3.10.14"
  }
 },
 "nbformat": 4,
 "nbformat_minor": 5
}
